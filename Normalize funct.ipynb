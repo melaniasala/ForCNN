{
 "cells": [
  {
   "cell_type": "markdown",
   "metadata": {},
   "source": [
    "## Importing libraries"
   ]
  },
  {
   "cell_type": "code",
   "execution_count": 5,
   "metadata": {},
   "outputs": [],
   "source": [
    "# Fix randomness and hide warnings\n",
    "seed = 42\n",
    "\n",
    "import os\n",
    "os.environ['TF_CPP_MIN_LOG_LEVEL'] = '3'\n",
    "os.environ['PYTHONHASHSEED'] = str(seed)\n",
    "os.environ['MPLCONFIGDIR'] = os.getcwd()+'/configs/'\n",
    "\n",
    "import warnings\n",
    "warnings.simplefilter(action='ignore', category=FutureWarning)\n",
    "warnings.simplefilter(action='ignore', category=Warning)\n",
    "\n",
    "import numpy as np\n",
    "np.random.seed(seed)\n",
    "\n",
    "import logging\n",
    "\n",
    "import random\n",
    "random.seed(seed)"
   ]
  },
  {
   "cell_type": "code",
   "execution_count": 6,
   "metadata": {},
   "outputs": [
    {
     "name": "stdout",
     "output_type": "stream",
     "text": [
      "2.13.0\n"
     ]
    }
   ],
   "source": [
    "# Import tensorflow\n",
    "import tensorflow as tf\n",
    "from tensorflow import keras as tfk\n",
    "from tensorflow.keras import layers as tfkl\n",
    "tf.autograph.set_verbosity(0)\n",
    "tf.get_logger().setLevel(logging.ERROR)\n",
    "tf.compat.v1.logging.set_verbosity(tf.compat.v1.logging.ERROR)\n",
    "tf.random.set_seed(seed)\n",
    "tf.compat.v1.set_random_seed(seed)\n",
    "print(tf.__version__)"
   ]
  },
  {
   "cell_type": "code",
   "execution_count": 7,
   "metadata": {},
   "outputs": [],
   "source": [
    "import pandas as pd\n",
    "import seaborn as sns\n",
    "\n",
    "from datetime import datetime\n",
    "import matplotlib.pyplot as plt\n",
    "plt.rc('font', size=16)\n",
    "from sklearn.preprocessing import MinMaxScaler"
   ]
  },
  {
   "cell_type": "code",
   "execution_count": 12,
   "metadata": {},
   "outputs": [],
   "source": [
    "# Load dataset\n",
    "categories = np.load('training_dataset_preprocessed/categories_preprocessed.npy')\n",
    "data_train = np.load('training_dataset_preprocessed/training_data_preprocessed.npy')\n",
    "valid_periods = np.load('training_dataset_preprocessed/valid_periods_preprocessed.npy')"
   ]
  },
  {
   "cell_type": "code",
   "execution_count": 88,
   "metadata": {},
   "outputs": [],
   "source": [
    "def normalize_window(windows_batch, return_minmax= False):\n",
    "    # squeeze last dimension\n",
    "    windows_batch =np.squeeze(windows_batch)\n",
    "    batch_size = len(windows_batch)\n",
    "\n",
    "    # For each sample compute min and max value\n",
    "    minmax_batch_array = np.array([[np.min(windows_batch[i]), np.max(windows_batch[i])] for i in range(batch_size)])\n",
    "\n",
    "    # Perform min-max scaling for each sample\n",
    "    scaled_batch = np.array([(windows_batch[i] - minmax_batch_array[i,0]) / (minmax_batch_array[i,1] - minmax_batch_array[i,0]) for i in range(batch_size)])\n",
    "\n",
    "    if return_minmax:\n",
    "        return scaled_batch, minmax_batch_array\n",
    "\n",
    "    else:\n",
    "        return scaled_batch"
   ]
  },
  {
   "cell_type": "code",
   "execution_count": 14,
   "metadata": {},
   "outputs": [
    {
     "data": {
      "text/plain": [
       "(47974, 2776, 1)"
      ]
     },
     "execution_count": 14,
     "metadata": {},
     "output_type": "execute_result"
    }
   ],
   "source": [
    "data_train.shape"
   ]
  },
  {
   "cell_type": "code",
   "execution_count": 19,
   "metadata": {},
   "outputs": [
    {
     "data": {
      "text/plain": [
       "(3, 10, 1)"
      ]
     },
     "execution_count": 19,
     "metadata": {},
     "output_type": "execute_result"
    }
   ],
   "source": [
    "data_try = data_train[:3, -10:, :]\n",
    "data_try.shape"
   ]
  },
  {
   "cell_type": "code",
   "execution_count": 62,
   "metadata": {},
   "outputs": [],
   "source": [
    "data_try =np.squeeze(data_try)"
   ]
  },
  {
   "cell_type": "code",
   "execution_count": 63,
   "metadata": {},
   "outputs": [
    {
     "data": {
      "text/plain": [
       "(3, 10)"
      ]
     },
     "execution_count": 63,
     "metadata": {},
     "output_type": "execute_result"
    }
   ],
   "source": [
    "data_try.shape"
   ]
  },
  {
   "cell_type": "code",
   "execution_count": 68,
   "metadata": {},
   "outputs": [
    {
     "data": {
      "text/plain": [
       "3"
      ]
     },
     "execution_count": 68,
     "metadata": {},
     "output_type": "execute_result"
    }
   ],
   "source": [
    "len(data_try)"
   ]
  },
  {
   "cell_type": "code",
   "execution_count": 71,
   "metadata": {},
   "outputs": [
    {
     "data": {
      "text/plain": [
       "array([[0.60750486, 0.99555146],\n",
       "       [0.27479158, 1.        ],\n",
       "       [0.3196237 , 1.        ]])"
      ]
     },
     "execution_count": 71,
     "metadata": {},
     "output_type": "execute_result"
    }
   ],
   "source": [
    "min_max_batch_array = np.array([[np.min(data_try[window]), np.max(data_try[window])] for window in range(len(data_try))])\n",
    "min_max_batch_array"
   ]
  },
  {
   "cell_type": "code",
   "execution_count": 72,
   "metadata": {},
   "outputs": [
    {
     "data": {
      "text/plain": [
       "(3, 2)"
      ]
     },
     "execution_count": 72,
     "metadata": {},
     "output_type": "execute_result"
    }
   ],
   "source": [
    "min_max_batch_array.shape"
   ]
  },
  {
   "cell_type": "code",
   "execution_count": 73,
   "metadata": {},
   "outputs": [
    {
     "data": {
      "text/plain": [
       "(3, 10)"
      ]
     },
     "execution_count": 73,
     "metadata": {},
     "output_type": "execute_result"
    }
   ],
   "source": [
    "data_try.shape"
   ]
  },
  {
   "cell_type": "code",
   "execution_count": 78,
   "metadata": {},
   "outputs": [
    {
     "data": {
      "text/plain": [
       "array([1.        , 0.54478243, 0.50786404, 0.47132041, 0.36748344,\n",
       "       0.65839054, 0.3196237 , 0.54485458, 0.53497663, 0.45541526])"
      ]
     },
     "execution_count": 78,
     "metadata": {},
     "output_type": "execute_result"
    }
   ],
   "source": [
    "data_try[2]"
   ]
  },
  {
   "cell_type": "code",
   "execution_count": 79,
   "metadata": {},
   "outputs": [
    {
     "data": {
      "text/plain": [
       "0.31962369545603175"
      ]
     },
     "execution_count": 79,
     "metadata": {},
     "output_type": "execute_result"
    }
   ],
   "source": [
    "min_max_batch_array[2,0]"
   ]
  },
  {
   "cell_type": "code",
   "execution_count": 77,
   "metadata": {},
   "outputs": [
    {
     "data": {
      "text/plain": [
       "array([0.6803763 , 0.22515874, 0.18824034, 0.15169672, 0.04785975,\n",
       "       0.33876684, 0.        , 0.22523088, 0.21535293, 0.13579156])"
      ]
     },
     "execution_count": 77,
     "metadata": {},
     "output_type": "execute_result"
    }
   ],
   "source": [
    "data_try[2] - min_max_batch_array[2,0]"
   ]
  },
  {
   "cell_type": "code",
   "execution_count": 81,
   "metadata": {},
   "outputs": [
    {
     "data": {
      "text/plain": [
       "array([[1.        , 0.57004745, 0.52020045, 0.57004745, 0.34990465,\n",
       "        0.52020045, 0.        , 0.34990465, 0.04867178, 0.37653554],\n",
       "       [1.        , 0.58326807, 0.33853142, 0.58326807, 0.33751611,\n",
       "        0.33853142, 0.        , 0.33751611, 0.20274657, 0.34324533],\n",
       "       [1.        , 0.33093266, 0.27667093, 0.22296002, 0.07034305,\n",
       "        0.497911  , 0.        , 0.33103869, 0.31652033, 0.19958303]])"
      ]
     },
     "execution_count": 81,
     "metadata": {},
     "output_type": "execute_result"
    }
   ],
   "source": [
    "scaled_batch = np.array([(data_try[i] - min_max_batch_array[i,0]) / (min_max_batch_array[i,1] - min_max_batch_array[i,0]) for i in range(len(data_try))])\n",
    "scaled_batch"
   ]
  },
  {
   "cell_type": "code",
   "execution_count": 82,
   "metadata": {},
   "outputs": [
    {
     "data": {
      "text/plain": [
       "(3, 10)"
      ]
     },
     "execution_count": 82,
     "metadata": {},
     "output_type": "execute_result"
    }
   ],
   "source": [
    "scaled_batch.shape"
   ]
  },
  {
   "cell_type": "code",
   "execution_count": 85,
   "metadata": {},
   "outputs": [
    {
     "data": {
      "text/plain": [
       "(3, 10, 1)"
      ]
     },
     "execution_count": 85,
     "metadata": {},
     "output_type": "execute_result"
    }
   ],
   "source": [
    "data_try = data_train[:3, -10:, :]\n",
    "data_try.shape"
   ]
  },
  {
   "cell_type": "code",
   "execution_count": 89,
   "metadata": {},
   "outputs": [],
   "source": [
    "new_data, minmax = normalize_window(data_try, return_minmax= True)"
   ]
  },
  {
   "cell_type": "code",
   "execution_count": 91,
   "metadata": {},
   "outputs": [
    {
     "data": {
      "text/plain": [
       "array([[[0.99555146],\n",
       "        [0.82870984],\n",
       "        [0.80936688],\n",
       "        [0.82870984],\n",
       "        [0.74328417],\n",
       "        [0.80936688],\n",
       "        [0.60750486],\n",
       "        [0.74328417],\n",
       "        [0.62639178],\n",
       "        [0.7536182 ]],\n",
       "\n",
       "       [[1.        ],\n",
       "        [0.69778249],\n",
       "        [0.52029741],\n",
       "        [0.69778249],\n",
       "        [0.5195611 ],\n",
       "        [0.52029741],\n",
       "        [0.27479158],\n",
       "        [0.5195611 ],\n",
       "        [0.4218251 ],\n",
       "        [0.52371598]],\n",
       "\n",
       "       [[1.        ],\n",
       "        [0.54478243],\n",
       "        [0.50786404],\n",
       "        [0.47132041],\n",
       "        [0.36748344],\n",
       "        [0.65839054],\n",
       "        [0.3196237 ],\n",
       "        [0.54485458],\n",
       "        [0.53497663],\n",
       "        [0.45541526]]])"
      ]
     },
     "execution_count": 91,
     "metadata": {},
     "output_type": "execute_result"
    }
   ],
   "source": [
    "data_try"
   ]
  },
  {
   "cell_type": "code",
   "execution_count": 90,
   "metadata": {},
   "outputs": [
    {
     "data": {
      "text/plain": [
       "array([[1.        , 0.57004745, 0.52020045, 0.57004745, 0.34990465,\n",
       "        0.52020045, 0.        , 0.34990465, 0.04867178, 0.37653554],\n",
       "       [1.        , 0.58326807, 0.33853142, 0.58326807, 0.33751611,\n",
       "        0.33853142, 0.        , 0.33751611, 0.20274657, 0.34324533],\n",
       "       [1.        , 0.33093266, 0.27667093, 0.22296002, 0.07034305,\n",
       "        0.497911  , 0.        , 0.33103869, 0.31652033, 0.19958303]])"
      ]
     },
     "execution_count": 90,
     "metadata": {},
     "output_type": "execute_result"
    }
   ],
   "source": [
    "new_data"
   ]
  },
  {
   "cell_type": "code",
   "execution_count": 92,
   "metadata": {},
   "outputs": [
    {
     "data": {
      "text/plain": [
       "array([[0.60750486, 0.99555146],\n",
       "       [0.27479158, 1.        ],\n",
       "       [0.3196237 , 1.        ]])"
      ]
     },
     "execution_count": 92,
     "metadata": {},
     "output_type": "execute_result"
    }
   ],
   "source": [
    "minmax"
   ]
  }
 ],
 "metadata": {
  "kernelspec": {
   "display_name": "Python 3",
   "language": "python",
   "name": "python3"
  },
  "language_info": {
   "codemirror_mode": {
    "name": "ipython",
    "version": 3
   },
   "file_extension": ".py",
   "mimetype": "text/x-python",
   "name": "python",
   "nbconvert_exporter": "python",
   "pygments_lexer": "ipython3",
   "version": "3.11.3"
  }
 },
 "nbformat": 4,
 "nbformat_minor": 2
}
