{
 "cells": [
  {
   "cell_type": "markdown",
   "metadata": {},
   "source": [
    "## Importing libraries"
   ]
  },
  {
   "cell_type": "code",
   "execution_count": 1,
   "metadata": {},
   "outputs": [],
   "source": [
    "# Fix randomness and hide warnings\n",
    "seed = 42\n",
    "\n",
    "import os\n",
    "os.environ['TF_CPP_MIN_LOG_LEVEL'] = '3'\n",
    "os.environ['PYTHONHASHSEED'] = str(seed)\n",
    "os.environ['MPLCONFIGDIR'] = os.getcwd()+'/configs/'\n",
    "\n",
    "import warnings\n",
    "warnings.simplefilter(action='ignore', category=FutureWarning)\n",
    "warnings.simplefilter(action='ignore', category=Warning)\n",
    "\n",
    "import numpy as np\n",
    "np.random.seed(seed)\n",
    "\n",
    "import logging\n",
    "\n",
    "import random\n",
    "random.seed(seed)"
   ]
  },
  {
   "cell_type": "code",
   "execution_count": 2,
   "metadata": {},
   "outputs": [
    {
     "name": "stdout",
     "output_type": "stream",
     "text": [
      "2.13.0\n"
     ]
    }
   ],
   "source": [
    "# Import tensorflow\n",
    "import tensorflow as tf\n",
    "from tensorflow import keras as tfk\n",
    "from tensorflow.keras import layers as tfkl\n",
    "tf.autograph.set_verbosity(0)\n",
    "tf.get_logger().setLevel(logging.ERROR)\n",
    "tf.compat.v1.logging.set_verbosity(tf.compat.v1.logging.ERROR)\n",
    "tf.random.set_seed(seed)\n",
    "tf.compat.v1.set_random_seed(seed)\n",
    "print(tf.__version__)"
   ]
  },
  {
   "cell_type": "code",
   "execution_count": 3,
   "metadata": {},
   "outputs": [],
   "source": [
    "import pandas as pd\n",
    "import seaborn as sns\n",
    "\n",
    "from datetime import datetime\n",
    "import matplotlib.pyplot as plt\n",
    "plt.rc('font', size=16)\n",
    "from sklearn.preprocessing import MinMaxScaler"
   ]
  },
  {
   "cell_type": "code",
   "execution_count": 4,
   "metadata": {},
   "outputs": [],
   "source": [
    "# Load dataset\n",
    "categories = np.load('training_dataset_preprocessed/categories_preprocessed.npy')\n",
    "data_train = np.load('training_dataset_preprocessed/training_data_preprocessed.npy')\n",
    "valid_periods = np.load('training_dataset_preprocessed/valid_periods_preprocessed.npy')"
   ]
  },
  {
   "cell_type": "code",
   "execution_count": 5,
   "metadata": {},
   "outputs": [],
   "source": [
    "def normalize_window(windows_batch, return_minmax= False):\n",
    "    single_sample = False\n",
    "    if len(windows_batch.shape) == 2:\n",
    "        single_sample = True\n",
    "\n",
    "    # Squeeze last dimension\n",
    "    windows_batch = np.squeeze(windows_batch)\n",
    "    batch_size = len(windows_batch)\n",
    "\n",
    "    # For each sample compute min and max value\n",
    "    if single_sample:\n",
    "        minmax_batch_array = np.array([[np.min(windows_batch)], [np.max(windows_batch)]])\n",
    "    else:\n",
    "        minmax_batch_array = np.array([[np.min(windows_batch[i]), np.max(windows_batch[i])] for i in range(batch_size)])\n",
    "   \n",
    "    # Perform min-max scaling for each sample\n",
    "    if single_sample:\n",
    "        scaled_batch = np.array([(windows_batch - minmax_batch_array[0]) / (minmax_batch_array[1] - minmax_batch_array[0])])\n",
    "    else:\n",
    "        scaled_batch = np.array([(windows_batch[i] - minmax_batch_array[i, 0]) / (minmax_batch_array[i, 1] - minmax_batch_array[i, 0]) for i in range(batch_size)])\n",
    "\n",
    "    # Return results\n",
    "    if return_minmax:\n",
    "        return scaled_batch, minmax_batch_array\n",
    "    else:\n",
    "        return scaled_batch"
   ]
  },
  {
   "cell_type": "code",
   "execution_count": 6,
   "metadata": {},
   "outputs": [
    {
     "data": {
      "text/plain": [
       "(47974, 2776, 1)"
      ]
     },
     "execution_count": 6,
     "metadata": {},
     "output_type": "execute_result"
    }
   ],
   "source": [
    "data_train.shape"
   ]
  },
  {
   "cell_type": "code",
   "execution_count": 7,
   "metadata": {},
   "outputs": [
    {
     "data": {
      "text/plain": [
       "(3, 10, 1)"
      ]
     },
     "execution_count": 7,
     "metadata": {},
     "output_type": "execute_result"
    }
   ],
   "source": [
    "data_try = data_train[:3, -10:, :]\n",
    "data_try.shape"
   ]
  },
  {
   "cell_type": "code",
   "execution_count": 8,
   "metadata": {},
   "outputs": [],
   "source": [
    "data_try =np.squeeze(data_try)"
   ]
  },
  {
   "cell_type": "code",
   "execution_count": 9,
   "metadata": {},
   "outputs": [
    {
     "data": {
      "text/plain": [
       "(3, 10)"
      ]
     },
     "execution_count": 9,
     "metadata": {},
     "output_type": "execute_result"
    }
   ],
   "source": [
    "data_try.shape"
   ]
  },
  {
   "cell_type": "code",
   "execution_count": 10,
   "metadata": {},
   "outputs": [
    {
     "data": {
      "text/plain": [
       "3"
      ]
     },
     "execution_count": 10,
     "metadata": {},
     "output_type": "execute_result"
    }
   ],
   "source": [
    "len(data_try)"
   ]
  },
  {
   "cell_type": "code",
   "execution_count": 11,
   "metadata": {},
   "outputs": [
    {
     "data": {
      "text/plain": [
       "array([0.99555146, 0.82870984, 0.80936688, 0.82870984, 0.74328417,\n",
       "       0.80936688, 0.60750486, 0.74328417, 0.62639178, 0.7536182 ])"
      ]
     },
     "execution_count": 11,
     "metadata": {},
     "output_type": "execute_result"
    }
   ],
   "source": [
    "data_try[0]"
   ]
  },
  {
   "cell_type": "code",
   "execution_count": 12,
   "metadata": {},
   "outputs": [
    {
     "data": {
      "text/plain": [
       "array([[0.27479158, 1.        ]])"
      ]
     },
     "execution_count": 12,
     "metadata": {},
     "output_type": "execute_result"
    }
   ],
   "source": [
    "min_max_batch_array = np.array([[np.min(data_try), np.max(data_try)]])\n",
    "min_max_batch_array"
   ]
  },
  {
   "cell_type": "code",
   "execution_count": 13,
   "metadata": {},
   "outputs": [
    {
     "data": {
      "text/plain": [
       "(1, 2)"
      ]
     },
     "execution_count": 13,
     "metadata": {},
     "output_type": "execute_result"
    }
   ],
   "source": [
    "min_max_batch_array.shape"
   ]
  },
  {
   "cell_type": "code",
   "execution_count": 14,
   "metadata": {},
   "outputs": [
    {
     "data": {
      "text/plain": [
       "(3, 10)"
      ]
     },
     "execution_count": 14,
     "metadata": {},
     "output_type": "execute_result"
    }
   ],
   "source": [
    "data_try.shape"
   ]
  },
  {
   "cell_type": "code",
   "execution_count": 15,
   "metadata": {},
   "outputs": [
    {
     "data": {
      "text/plain": [
       "array([1.        , 0.54478243, 0.50786404, 0.47132041, 0.36748344,\n",
       "       0.65839054, 0.3196237 , 0.54485458, 0.53497663, 0.45541526])"
      ]
     },
     "execution_count": 15,
     "metadata": {},
     "output_type": "execute_result"
    }
   ],
   "source": [
    "data_try[2]"
   ]
  },
  {
   "cell_type": "code",
   "execution_count": 16,
   "metadata": {},
   "outputs": [
    {
     "ename": "IndexError",
     "evalue": "index 2 is out of bounds for axis 0 with size 1",
     "output_type": "error",
     "traceback": [
      "\u001b[1;31m---------------------------------------------------------------------------\u001b[0m",
      "\u001b[1;31mIndexError\u001b[0m                                Traceback (most recent call last)",
      "\u001b[1;32mc:\\Users\\melan\\shared-folder\\ANNChallenges\\ForCNN\\Normalize funct.ipynb Cell 17\u001b[0m line \u001b[0;36m1\n\u001b[1;32m----> <a href='vscode-notebook-cell:/c%3A/Users/melan/shared-folder/ANNChallenges/ForCNN/Normalize%20funct.ipynb#X21sZmlsZQ%3D%3D?line=0'>1</a>\u001b[0m min_max_batch_array[\u001b[39m2\u001b[39;49m,\u001b[39m0\u001b[39;49m]\n",
      "\u001b[1;31mIndexError\u001b[0m: index 2 is out of bounds for axis 0 with size 1"
     ]
    }
   ],
   "source": [
    "min_max_batch_array[2,0]"
   ]
  },
  {
   "cell_type": "code",
   "execution_count": null,
   "metadata": {},
   "outputs": [
    {
     "data": {
      "text/plain": [
       "array([0.6803763 , 0.22515874, 0.18824034, 0.15169672, 0.04785975,\n",
       "       0.33876684, 0.        , 0.22523088, 0.21535293, 0.13579156])"
      ]
     },
     "execution_count": 77,
     "metadata": {},
     "output_type": "execute_result"
    }
   ],
   "source": [
    "data_try[2] - min_max_batch_array[2,0]"
   ]
  },
  {
   "cell_type": "code",
   "execution_count": null,
   "metadata": {},
   "outputs": [
    {
     "data": {
      "text/plain": [
       "array([[1.        , 0.57004745, 0.52020045, 0.57004745, 0.34990465,\n",
       "        0.52020045, 0.        , 0.34990465, 0.04867178, 0.37653554],\n",
       "       [1.        , 0.58326807, 0.33853142, 0.58326807, 0.33751611,\n",
       "        0.33853142, 0.        , 0.33751611, 0.20274657, 0.34324533],\n",
       "       [1.        , 0.33093266, 0.27667093, 0.22296002, 0.07034305,\n",
       "        0.497911  , 0.        , 0.33103869, 0.31652033, 0.19958303]])"
      ]
     },
     "execution_count": 81,
     "metadata": {},
     "output_type": "execute_result"
    }
   ],
   "source": [
    "scaled_batch = np.array([(data_try[i] - min_max_batch_array[i,0]) / (min_max_batch_array[i,1] - min_max_batch_array[i,0]) for i in range(len(data_try))])\n",
    "scaled_batch"
   ]
  },
  {
   "cell_type": "code",
   "execution_count": null,
   "metadata": {},
   "outputs": [
    {
     "data": {
      "text/plain": [
       "(3, 10)"
      ]
     },
     "execution_count": 82,
     "metadata": {},
     "output_type": "execute_result"
    }
   ],
   "source": [
    "scaled_batch.shape"
   ]
  },
  {
   "cell_type": "code",
   "execution_count": null,
   "metadata": {},
   "outputs": [
    {
     "data": {
      "text/plain": [
       "(3, 10, 1)"
      ]
     },
     "execution_count": 5,
     "metadata": {},
     "output_type": "execute_result"
    }
   ],
   "source": [
    "data_try = data_train[:3, -10:, :]\n",
    "data_try.shape"
   ]
  },
  {
   "cell_type": "code",
   "execution_count": null,
   "metadata": {},
   "outputs": [],
   "source": [
    "new_data, minmax = normalize_window(data_try, return_minmax= True)"
   ]
  },
  {
   "cell_type": "code",
   "execution_count": null,
   "metadata": {},
   "outputs": [
    {
     "data": {
      "text/plain": [
       "array([[[0.99555146],\n",
       "        [0.82870984],\n",
       "        [0.80936688],\n",
       "        [0.82870984],\n",
       "        [0.74328417],\n",
       "        [0.80936688],\n",
       "        [0.60750486],\n",
       "        [0.74328417],\n",
       "        [0.62639178],\n",
       "        [0.7536182 ]],\n",
       "\n",
       "       [[1.        ],\n",
       "        [0.69778249],\n",
       "        [0.52029741],\n",
       "        [0.69778249],\n",
       "        [0.5195611 ],\n",
       "        [0.52029741],\n",
       "        [0.27479158],\n",
       "        [0.5195611 ],\n",
       "        [0.4218251 ],\n",
       "        [0.52371598]],\n",
       "\n",
       "       [[1.        ],\n",
       "        [0.54478243],\n",
       "        [0.50786404],\n",
       "        [0.47132041],\n",
       "        [0.36748344],\n",
       "        [0.65839054],\n",
       "        [0.3196237 ],\n",
       "        [0.54485458],\n",
       "        [0.53497663],\n",
       "        [0.45541526]]])"
      ]
     },
     "execution_count": 8,
     "metadata": {},
     "output_type": "execute_result"
    }
   ],
   "source": [
    "data_try"
   ]
  },
  {
   "cell_type": "code",
   "execution_count": null,
   "metadata": {},
   "outputs": [
    {
     "data": {
      "text/plain": [
       "array([[1.        , 0.57004745, 0.52020045, 0.57004745, 0.34990465,\n",
       "        0.52020045, 0.        , 0.34990465, 0.04867178, 0.37653554],\n",
       "       [1.        , 0.58326807, 0.33853142, 0.58326807, 0.33751611,\n",
       "        0.33853142, 0.        , 0.33751611, 0.20274657, 0.34324533],\n",
       "       [1.        , 0.33093266, 0.27667093, 0.22296002, 0.07034305,\n",
       "        0.497911  , 0.        , 0.33103869, 0.31652033, 0.19958303]])"
      ]
     },
     "execution_count": 9,
     "metadata": {},
     "output_type": "execute_result"
    }
   ],
   "source": [
    "new_data"
   ]
  },
  {
   "cell_type": "code",
   "execution_count": null,
   "metadata": {},
   "outputs": [
    {
     "data": {
      "text/plain": [
       "(3, 10)"
      ]
     },
     "execution_count": 11,
     "metadata": {},
     "output_type": "execute_result"
    }
   ],
   "source": [
    "new_data.shape"
   ]
  },
  {
   "cell_type": "code",
   "execution_count": null,
   "metadata": {},
   "outputs": [
    {
     "data": {
      "text/plain": [
       "array([[0.60750486, 0.99555146],\n",
       "       [0.27479158, 1.        ],\n",
       "       [0.3196237 , 1.        ]])"
      ]
     },
     "execution_count": 12,
     "metadata": {},
     "output_type": "execute_result"
    }
   ],
   "source": [
    "minmax"
   ]
  },
  {
   "cell_type": "code",
   "execution_count": null,
   "metadata": {},
   "outputs": [],
   "source": [
    "from Utils import normalize_window, inverse_normalize_window"
   ]
  },
  {
   "cell_type": "code",
   "execution_count": null,
   "metadata": {},
   "outputs": [],
   "source": [
    "back = inverse_normalize_window(new_data, minmax)"
   ]
  },
  {
   "cell_type": "code",
   "execution_count": null,
   "metadata": {},
   "outputs": [
    {
     "data": {
      "text/plain": [
       "array([[0.99555146, 0.82870984, 0.80936688, 0.82870984, 0.74328417,\n",
       "        0.80936688, 0.60750486, 0.74328417, 0.62639178, 0.7536182 ],\n",
       "       [1.        , 0.69778249, 0.52029741, 0.69778249, 0.5195611 ,\n",
       "        0.52029741, 0.27479158, 0.5195611 , 0.4218251 , 0.52371598],\n",
       "       [1.        , 0.54478243, 0.50786404, 0.47132041, 0.36748344,\n",
       "        0.65839054, 0.3196237 , 0.54485458, 0.53497663, 0.45541526]])"
      ]
     },
     "execution_count": 14,
     "metadata": {},
     "output_type": "execute_result"
    }
   ],
   "source": [
    "back"
   ]
  },
  {
   "cell_type": "code",
   "execution_count": null,
   "metadata": {},
   "outputs": [
    {
     "data": {
      "text/plain": [
       "array([[ True,  True,  True,  True,  True,  True,  True,  True,  True,\n",
       "         True],\n",
       "       [ True,  True,  True,  True,  True,  True,  True,  True,  True,\n",
       "         True],\n",
       "       [ True,  True,  True,  True,  True,  True,  True,  True,  True,\n",
       "         True]])"
      ]
     },
     "execution_count": 15,
     "metadata": {},
     "output_type": "execute_result"
    }
   ],
   "source": [
    "back == np.squeeze(data_try)"
   ]
  },
  {
   "cell_type": "markdown",
   "metadata": {},
   "source": [
    "## Try as a layer"
   ]
  },
  {
   "cell_type": "code",
   "execution_count": 17,
   "metadata": {},
   "outputs": [
    {
     "data": {
      "text/plain": [
       "(3, 10, 1)"
      ]
     },
     "execution_count": 17,
     "metadata": {},
     "output_type": "execute_result"
    }
   ],
   "source": [
    "data_try = data_train[:3, -10:, :]\n",
    "data_try.shape"
   ]
  },
  {
   "cell_type": "code",
   "execution_count": 21,
   "metadata": {},
   "outputs": [],
   "source": [
    "from Utils import NormalizeWindowLayer, InverseNormalizeWindowLayer"
   ]
  },
  {
   "cell_type": "code",
   "execution_count": 19,
   "metadata": {},
   "outputs": [],
   "source": [
    "output = NormalizeWindowLayer(return_minmax= True) (data_try)"
   ]
  },
  {
   "cell_type": "code",
   "execution_count": 20,
   "metadata": {},
   "outputs": [
    {
     "data": {
      "text/plain": [
       "(<tf.Tensor: shape=(3, 10), dtype=float32, numpy=\n",
       " array([[1.        , 0.5700475 , 0.5202005 , 0.5700475 , 0.34990466,\n",
       "         0.5202005 , 0.        , 0.34990466, 0.04867179, 0.3765355 ],\n",
       "        [1.        , 0.5832681 , 0.33853143, 0.5832681 , 0.33751616,\n",
       "         0.33853143, 0.        , 0.33751616, 0.2027466 , 0.34324533],\n",
       "        [1.        , 0.33093268, 0.27667093, 0.22296003, 0.07034303,\n",
       "         0.49791095, 0.        , 0.33103868, 0.31652027, 0.199583  ]],\n",
       "       dtype=float32)>,\n",
       " <tf.Tensor: shape=(3, 2), dtype=float32, numpy=\n",
       " array([[0.60750484, 0.99555147],\n",
       "        [0.27479157, 1.        ],\n",
       "        [0.3196237 , 1.        ]], dtype=float32)>)"
      ]
     },
     "execution_count": 20,
     "metadata": {},
     "output_type": "execute_result"
    }
   ],
   "source": [
    "output"
   ]
  },
  {
   "cell_type": "code",
   "execution_count": 22,
   "metadata": {},
   "outputs": [],
   "source": [
    "back = InverseNormalizeWindowLayer() (output)"
   ]
  },
  {
   "cell_type": "code",
   "execution_count": 23,
   "metadata": {},
   "outputs": [
    {
     "data": {
      "text/plain": [
       "<tf.Tensor: shape=(3, 10), dtype=float32, numpy=\n",
       "array([[0.99555147, 0.82870984, 0.8093669 , 0.82870984, 0.74328417,\n",
       "        0.8093669 , 0.60750484, 0.74328417, 0.62639177, 0.7536182 ],\n",
       "       [1.        , 0.6977825 , 0.5202974 , 0.6977825 , 0.5195611 ,\n",
       "        0.5202974 , 0.27479157, 0.5195611 , 0.4218251 , 0.523716  ],\n",
       "       [1.        , 0.54478246, 0.50786406, 0.47132042, 0.36748344,\n",
       "        0.6583905 , 0.3196237 , 0.5448546 , 0.5349766 , 0.45541525]],\n",
       "      dtype=float32)>"
      ]
     },
     "execution_count": 23,
     "metadata": {},
     "output_type": "execute_result"
    }
   ],
   "source": [
    "back"
   ]
  },
  {
   "cell_type": "code",
   "execution_count": 24,
   "metadata": {},
   "outputs": [
    {
     "data": {
      "text/plain": [
       "array([[[0.99555146],\n",
       "        [0.82870984],\n",
       "        [0.80936688],\n",
       "        [0.82870984],\n",
       "        [0.74328417],\n",
       "        [0.80936688],\n",
       "        [0.60750486],\n",
       "        [0.74328417],\n",
       "        [0.62639178],\n",
       "        [0.7536182 ]],\n",
       "\n",
       "       [[1.        ],\n",
       "        [0.69778249],\n",
       "        [0.52029741],\n",
       "        [0.69778249],\n",
       "        [0.5195611 ],\n",
       "        [0.52029741],\n",
       "        [0.27479158],\n",
       "        [0.5195611 ],\n",
       "        [0.4218251 ],\n",
       "        [0.52371598]],\n",
       "\n",
       "       [[1.        ],\n",
       "        [0.54478243],\n",
       "        [0.50786404],\n",
       "        [0.47132041],\n",
       "        [0.36748344],\n",
       "        [0.65839054],\n",
       "        [0.3196237 ],\n",
       "        [0.54485458],\n",
       "        [0.53497663],\n",
       "        [0.45541526]]])"
      ]
     },
     "execution_count": 24,
     "metadata": {},
     "output_type": "execute_result"
    }
   ],
   "source": [
    "data_try"
   ]
  }
 ],
 "metadata": {
  "kernelspec": {
   "display_name": "Python 3",
   "language": "python",
   "name": "python3"
  },
  "language_info": {
   "codemirror_mode": {
    "name": "ipython",
    "version": 3
   },
   "file_extension": ".py",
   "mimetype": "text/x-python",
   "name": "python",
   "nbconvert_exporter": "python",
   "pygments_lexer": "ipython3",
   "version": "3.11.3"
  }
 },
 "nbformat": 4,
 "nbformat_minor": 2
}
